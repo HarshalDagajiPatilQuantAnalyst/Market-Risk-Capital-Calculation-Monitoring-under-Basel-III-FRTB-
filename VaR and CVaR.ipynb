{
 "cells": [
  {
   "cell_type": "code",
   "execution_count": 1,
   "id": "bcc25e99-746b-43ed-9db3-80094fc73ca2",
   "metadata": {},
   "outputs": [],
   "source": [
    "# config.py\n",
    "API_KEY = \"04RRGEKMK1FDDJYP\""
   ]
  },
  {
   "cell_type": "code",
   "execution_count": 6,
   "id": "09f2955d-cd69-47d1-bec7-dc6ee50ce7ea",
   "metadata": {},
   "outputs": [
    {
     "name": "stdout",
     "output_type": "stream",
     "text": [
      "Saved AAPL data to data_AAPL.csv\n"
     ]
    }
   ],
   "source": [
    "# data_fetch_alpha_vantage.py\n",
    "import requests\n",
    "import pandas as pd\n",
    "\n",
    "def fetch_stock_data(symbol, outputsize='full'):\n",
    "    url = (\n",
    "        f\"https://www.alphavantage.co/query?function=TIME_SERIES_DAILY&symbol={symbol}\"\n",
    "        f\"&outputsize={outputsize}&apikey={API_KEY}&datatype=csv\"\n",
    "    )\n",
    "    r = requests.get(url)\n",
    "    filename = f\"data_{symbol}.csv\"\n",
    "    with open(filename, \"w\") as f:\n",
    "        f.write(r.text)\n",
    "    print(f\"Saved {symbol} data to {filename}\")\n",
    "    return filename\n",
    "\n",
    "# Example usage:\n",
    "if __name__ == \"__main__\":\n",
    "    fetch_stock_data(\"AAPL\")\n"
   ]
  },
  {
   "cell_type": "code",
   "execution_count": 7,
   "id": "abec1d03-d38e-4d97-82f7-b407693ef8b7",
   "metadata": {},
   "outputs": [
    {
     "name": "stdout",
     "output_type": "stream",
     "text": [
      "VaR (95%): 6643.10\n",
      "CVaR (95%): -8363.70\n"
     ]
    }
   ],
   "source": [
    "# var_cvar_delta_normal.py\n",
    "import pandas as pd\n",
    "import numpy as np\n",
    "from scipy.stats import norm\n",
    "\n",
    "confidence_level = 0.95\n",
    "z = norm.ppf(1 - confidence_level)\n",
    "\n",
    "def calculate_var_cvar(file, investment):\n",
    "    df = pd.read_csv(file)\n",
    "    df['timestamp'] = pd.to_datetime(df['timestamp'])\n",
    "    df.set_index('timestamp', inplace=True)\n",
    "    df.sort_index(inplace=True)\n",
    "    \n",
    "    df['log_return'] = np.log(df['close'] / df['close'].shift(1))\n",
    "    df.dropna(inplace=True)\n",
    "    \n",
    "    mu = df['log_return'].mean()\n",
    "    sigma = df['log_return'].std()\n",
    "    \n",
    "    VaR = -investment * (mu + z * sigma)\n",
    "    CVaR = -investment * (mu + sigma * norm.pdf(z) / (1 - confidence_level))\n",
    "    \n",
    "    print(f\"VaR (95%): {VaR:.2f}\")\n",
    "    print(f\"CVaR (95%): {CVaR:.2f}\")\n",
    "    return VaR, CVaR\n",
    "\n",
    "# Example\n",
    "if __name__ == \"__main__\":\n",
    "    calculate_var_cvar(\"data_AAPL.csv\", investment=100000)\n"
   ]
  },
  {
   "cell_type": "code",
   "execution_count": 8,
   "id": "07c4b98e-2b22-43ce-941e-aca926e9b14f",
   "metadata": {},
   "outputs": [
    {
     "name": "stdout",
     "output_type": "stream",
     "text": [
      "Historical VaR (95%): 3724.64\n",
      "Historical CVaR (95%): 7082.84\n"
     ]
    }
   ],
   "source": [
    "# var_cvar_historical.py\n",
    "import pandas as pd\n",
    "import numpy as np\n",
    "\n",
    "def historical_var_cvar(file, investment, confidence_level=0.95):\n",
    "    df = pd.read_csv(file)\n",
    "    df['timestamp'] = pd.to_datetime(df['timestamp'])\n",
    "    df.set_index('timestamp', inplace=True)\n",
    "    df.sort_index(inplace=True)\n",
    "    \n",
    "    df['log_return'] = np.log(df['close'] / df['close'].shift(1))\n",
    "    df.dropna(inplace=True)\n",
    "\n",
    "    sorted_returns = df['log_return'].sort_values()\n",
    "    var_index = int((1 - confidence_level) * len(sorted_returns))\n",
    "    VaR = -investment * sorted_returns.iloc[var_index]\n",
    "    CVaR = -investment * sorted_returns.iloc[:var_index].mean()\n",
    "\n",
    "    print(f\"Historical VaR (95%): {VaR:.2f}\")\n",
    "    print(f\"Historical CVaR (95%): {CVaR:.2f}\")\n",
    "    return VaR, CVaR\n",
    "\n",
    "# Example\n",
    "if __name__ == \"__main__\":\n",
    "    historical_var_cvar(\"data_AAPL.csv\", investment=100000)\n"
   ]
  },
  {
   "cell_type": "code",
   "execution_count": 9,
   "id": "01ddece5-d33f-4ee7-ad92-52138ae198bd",
   "metadata": {},
   "outputs": [
    {
     "name": "stdout",
     "output_type": "stream",
     "text": [
      "Monte Carlo VaR (95%): -6658.38\n",
      "Monte Carlo CVaR (95%): 401.97\n"
     ]
    }
   ],
   "source": [
    "# var_cvar_monte_carlo.py\n",
    "import pandas as pd\n",
    "import numpy as np\n",
    "from scipy.stats import norm\n",
    "\n",
    "def monte_carlo_var_cvar(file, investment, confidence_level=0.95, num_simulations=10000):\n",
    "    df = pd.read_csv(file)\n",
    "    df['timestamp'] = pd.to_datetime(df['timestamp'])\n",
    "    df.set_index('timestamp', inplace=True)\n",
    "    df.sort_index(inplace=True)\n",
    "\n",
    "    df['log_return'] = np.log(df['close'] / df['close'].shift(1))\n",
    "    df.dropna(inplace=True)\n",
    "\n",
    "    mu = df['log_return'].mean()\n",
    "    sigma = df['log_return'].std()\n",
    "\n",
    "    simulated_returns = np.random.normal(mu, sigma, num_simulations)\n",
    "    simulated_losses = -investment * simulated_returns\n",
    "\n",
    "    VaR = np.percentile(simulated_losses, (1 - confidence_level) * 100)\n",
    "    CVaR = simulated_losses[simulated_losses >= VaR].mean()\n",
    "\n",
    "    print(f\"Monte Carlo VaR (95%): {VaR:.2f}\")\n",
    "    print(f\"Monte Carlo CVaR (95%): {CVaR:.2f}\")\n",
    "    return VaR, CVaR\n",
    "\n",
    "# Example\n",
    "if __name__ == \"__main__\":\n",
    "    monte_carlo_var_cvar(\"data_AAPL.csv\", investment=100000)\n"
   ]
  },
  {
   "cell_type": "code",
   "execution_count": null,
   "id": "b23ab75c-21aa-4964-a972-8cbe5f70c5fb",
   "metadata": {},
   "outputs": [],
   "source": []
  }
 ],
 "metadata": {
  "kernelspec": {
   "display_name": "Python 3 (ipykernel)",
   "language": "python",
   "name": "python3"
  },
  "language_info": {
   "codemirror_mode": {
    "name": "ipython",
    "version": 3
   },
   "file_extension": ".py",
   "mimetype": "text/x-python",
   "name": "python",
   "nbconvert_exporter": "python",
   "pygments_lexer": "ipython3",
   "version": "3.11.7"
  }
 },
 "nbformat": 4,
 "nbformat_minor": 5
}
